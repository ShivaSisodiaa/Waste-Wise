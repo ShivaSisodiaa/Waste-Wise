{
 "cells": [
  {
   "cell_type": "code",
   "execution_count": 1,
   "id": "88401588",
   "metadata": {},
   "outputs": [],
   "source": [
    "import sqlite3\n",
    "import io\n",
    "from PIL import Image\n",
    "\n",
    "conn = sqlite3.connect('waste_disposal.db')"
   ]
  },
  {
   "cell_type": "code",
   "execution_count": 2,
   "id": "7020fe31",
   "metadata": {},
   "outputs": [
    {
     "data": {
      "text/plain": [
       "<sqlite3.Cursor at 0x7f898ce44f10>"
      ]
     },
     "execution_count": 2,
     "metadata": {},
     "output_type": "execute_result"
    }
   ],
   "source": [
    "conn.execute('''CREATE TABLE Users\n",
    "             (user_id INTEGER PRIMARY KEY,\n",
    "             user_name TEXT NOT NULL,\n",
    "             residential_location TEXT NOT NULL,\n",
    "             recycled_waste_weight REAL DEFAULT 0,\n",
    "             organic_waste_weight REAL DEFAULT 0,\n",
    "             disposal_points INTEGER DEFAULT 0);''')"
   ]
  },
  {
   "cell_type": "code",
   "execution_count": 3,
   "id": "4004d9a3",
   "metadata": {},
   "outputs": [],
   "source": [
    "conn.execute(\"INSERT INTO Users (user_id, user_name, residential_location, recycled_waste_weight, organic_waste_weight, disposal_points) VALUES (05, 'Raghav', 'A Block', 10.5, 5.2, 20)\")\n",
    "conn.execute(\"INSERT INTO Users (user_id, user_name, residential_location, recycled_waste_weight, organic_waste_weight, disposal_points) VALUES (11, 'Satvik', 'M Block', 8.2, 6.7, 15)\")\n",
    "conn.execute(\"INSERT INTO Users (user_id, user_name, residential_location, recycled_waste_weight, organic_waste_weight, disposal_points) VALUES (35, 'Akshat', 'G Block', 12.1, 4.3, 25)\")\n",
    "conn.execute(\"INSERT INTO Users (user_id, user_name, residential_location, recycled_waste_weight, organic_waste_weight, disposal_points) VALUES (17, 'Shiva', 'D Block', 7.8, 3.9, 21)\")\n",
    "conn.execute(\"INSERT INTO Users (user_id, user_name, residential_location, recycled_waste_weight, organic_waste_weight, disposal_points) VALUES (14, 'Shubham', 'E Block', 15.7, 6.9, 17)\")\n",
    "\n",
    "conn.commit()"
   ]
  },
  {
   "cell_type": "code",
   "execution_count": 4,
   "id": "b9a4a234",
   "metadata": {},
   "outputs": [
    {
     "name": "stdout",
     "output_type": "stream",
     "text": [
      "(5, 'Raghav', 'A Block', 10.5, 5.2, 20)\n",
      "(11, 'Satvik', 'M Block', 8.2, 6.7, 15)\n",
      "(14, 'Shubham', 'E Block', 15.7, 6.9, 17)\n",
      "(17, 'Shiva', 'D Block', 7.8, 3.9, 21)\n",
      "(35, 'Akshat', 'G Block', 12.1, 4.3, 25)\n"
     ]
    }
   ],
   "source": [
    "ur = conn.execute(\"SELECT * FROM Users\")\n",
    "for r in ur:\n",
    "    print(r)"
   ]
  },
  {
   "cell_type": "code",
   "execution_count": 5,
   "id": "a4139f20",
   "metadata": {},
   "outputs": [
    {
     "data": {
      "text/plain": [
       "<sqlite3.Cursor at 0x7f898ce643b0>"
      ]
     },
     "execution_count": 5,
     "metadata": {},
     "output_type": "execute_result"
    }
   ],
   "source": [
    "conn.execute('''CREATE TABLE Products\n",
    "             (product_id INTEGER PRIMARY KEY,\n",
    "             product_name TEXT NOT NULL,\n",
    "             category TEXT NOT NULL,\n",
    "             brand TEXT NOT NULL,\n",
    "             price REAL NOT NULL,\n",
    "             image BLOB);''')"
   ]
  },
  {
   "cell_type": "code",
   "execution_count": 6,
   "id": "b8f5599f",
   "metadata": {},
   "outputs": [],
   "source": [
    "with open(\"/Users/raghavsrivastava/Desktop/Unknown-5.jpeg\", \"rb\") as f:\n",
    "    img1 = f.read()\n",
    "with open(\"/Users/raghavsrivastava/Desktop/Unknown-3.jpeg\", \"rb\") as f:\n",
    "    img2 = f.read()\n",
    "with open(\"/Users/raghavsrivastava/Desktop/Unknown-1.jpeg\", \"rb\") as f:\n",
    "    img3 = f.read()\n",
    "with open(\"/Users/raghavsrivastava/Desktop/Unknown-4.jpeg\", \"rb\") as f:\n",
    "    img4 = f.read()\n",
    "with open(\"/Users/raghavsrivastava/Desktop/Unknown.jpeg\", \"rb\") as f:\n",
    "    img5 = f.read()\n",
    "with open(\"/Users/raghavsrivastava/Desktop/Unknown-2.jpeg\", \"rb\") as f:\n",
    "    img6 = f.read()"
   ]
  },
  {
   "cell_type": "code",
   "execution_count": 7,
   "id": "fc58b33f",
   "metadata": {},
   "outputs": [],
   "source": [
    "conn.execute(\"INSERT INTO Products (product_id, product_name, category, brand, price, image) VALUES (71, 'Blue Denim Over-shirt', 'Men','Levis', 2000, ?)\", (img1,))\n",
    "conn.execute(\"INSERT INTO Products (product_id, product_name, category, brand, price, image) VALUES (93, 'Wu-Shang Clan Tee', 'Men','Bewakoof', 500, ?)\", (img2,))\n",
    "conn.execute(\"INSERT INTO Products (product_id, product_name, category, brand, price, image) VALUES (47, 'White Sneakers', 'Women','H & M', 1500, ?)\", (img3,))\n",
    "conn.execute(\"INSERT INTO Products (product_id, product_name, category, brand, price, image) VALUES (87, 'Red Trousers', 'Men','Bonkers', 700, ?)\", (img4,))\n",
    "conn.execute(\"INSERT INTO Products (product_id, product_name, category, brand, price, image) VALUES (55, 'Tan Knee High Boots', 'Men','WoodLand', 10000, ?)\", (img5,))\n",
    "conn.execute(\"INSERT INTO Products (product_id, product_name, category, brand, price, image) VALUES (64, 'Orange Crop Top', 'Women','Forever 21', 1500, ?)\", (img6, ))\n",
    "conn.commit()"
   ]
  },
  {
   "cell_type": "code",
   "execution_count": 35,
   "id": "b67742d4",
   "metadata": {},
   "outputs": [],
   "source": [
    "for i in range(len(list(conn.execute(\"SELECT product_name FROM Products\")))):\n",
    "    x = prd_nms[i]\n",
    "    result = conn.execute(\"SELECT image FROM Products WHERE product_name = ?\", x)\n",
    "    img_data = result.fetchone()[0]\n",
    "    img = Image.open(io.BytesIO(img_data))\n",
    "    img.show()"
   ]
  },
  {
   "cell_type": "code",
   "execution_count": null,
   "id": "5ca7499b",
   "metadata": {},
   "outputs": [],
   "source": []
  },
  {
   "cell_type": "code",
   "execution_count": null,
   "id": "41919d75",
   "metadata": {},
   "outputs": [],
   "source": []
  },
  {
   "cell_type": "code",
   "execution_count": null,
   "id": "923521dc",
   "metadata": {},
   "outputs": [],
   "source": []
  },
  {
   "cell_type": "code",
   "execution_count": null,
   "id": "0ea0c9d5",
   "metadata": {},
   "outputs": [],
   "source": []
  },
  {
   "cell_type": "code",
   "execution_count": null,
   "id": "28b44939",
   "metadata": {},
   "outputs": [],
   "source": []
  }
 ],
 "metadata": {
  "kernelspec": {
   "display_name": "Python 3 (ipykernel)",
   "language": "python",
   "name": "python3"
  },
  "language_info": {
   "codemirror_mode": {
    "name": "ipython",
    "version": 3
   },
   "file_extension": ".py",
   "mimetype": "text/x-python",
   "name": "python",
   "nbconvert_exporter": "python",
   "pygments_lexer": "ipython3",
   "version": "3.9.13"
  }
 },
 "nbformat": 4,
 "nbformat_minor": 5
}
